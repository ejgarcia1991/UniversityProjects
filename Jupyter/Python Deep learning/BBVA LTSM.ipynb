{
 "cells": [
  {
   "cell_type": "code",
   "execution_count": 146,
   "metadata": {},
   "outputs": [],
   "source": [
    "import numpy as np \n",
    "import matplotlib.pyplot as plt \n",
    "import pandas as pd \n",
    " \n",
    "# Importamos el conjunto de entrenamiento \n",
    " \n",
    "training_set = pd.read_csv('BBVA_train.csv', sep=',') \n",
    " \n",
    "# Trabajaremos con la columna “Open” \n",
    "training_set = training_set.iloc[:,1:2].values"
   ]
  },
  {
   "cell_type": "code",
   "execution_count": 147,
   "metadata": {},
   "outputs": [],
   "source": [
    "from sklearn.preprocessing import MinMaxScaler \n",
    " \n",
    "sc = MinMaxScaler() # por defecto es 0,1 \n",
    " \n",
    "# Normalizamos el conjunto de entrenamiento \n",
    "training_set = sc.fit_transform(training_set)"
   ]
  },
  {
   "cell_type": "code",
   "execution_count": 148,
   "metadata": {},
   "outputs": [],
   "source": [
    "#Preparar el rango de train\n",
    "X_train = training_set[0:2262]\n",
    "y_train = training_set[1:2263] \n",
    "X_train = np.reshape(X_train, (2262, 1, 1)) "
   ]
  },
  {
   "cell_type": "code",
   "execution_count": 149,
   "metadata": {},
   "outputs": [],
   "source": [
    "# Parte 2 – Construyendo la Red Neural Recurrente \n",
    "# Importando las librerias y paquetes \n",
    " \n",
    "from keras.models import Sequential\n",
    "from keras.layers import Dense \n",
    "from keras.layers import LSTM "
   ]
  },
  {
   "cell_type": "code",
   "execution_count": 150,
   "metadata": {},
   "outputs": [
    {
     "name": "stdout",
     "output_type": "stream",
     "text": [
      "Epoch 1/40\n",
      "2262/2262 [==============================] - 1s 412us/step - loss: 0.3164\n",
      "Epoch 2/40\n",
      "2262/2262 [==============================] - 0s 103us/step - loss: 0.0355\n",
      "Epoch 3/40\n",
      "2262/2262 [==============================] - 0s 105us/step - loss: 0.0320\n",
      "Epoch 4/40\n",
      "2262/2262 [==============================] - 0s 106us/step - loss: 0.0304\n",
      "Epoch 5/40\n",
      "2262/2262 [==============================] - 0s 108us/step - loss: 0.0289\n",
      "Epoch 6/40\n",
      "2262/2262 [==============================] - 0s 103us/step - loss: 0.0267\n",
      "Epoch 7/40\n",
      "2262/2262 [==============================] - 0s 106us/step - loss: 0.0229\n",
      "Epoch 8/40\n",
      "2262/2262 [==============================] - 0s 105us/step - loss: 0.0174\n",
      "Epoch 9/40\n",
      "2262/2262 [==============================] - 0s 104us/step - loss: 0.0107\n",
      "Epoch 10/40\n",
      "2262/2262 [==============================] - 0s 110us/step - loss: 0.0041\n",
      "Epoch 11/40\n",
      "2262/2262 [==============================] - 0s 115us/step - loss: 5.6429e-04\n",
      "Epoch 12/40\n",
      "2262/2262 [==============================] - 0s 118us/step - loss: 2.8705e-04\n",
      "Epoch 13/40\n",
      "2262/2262 [==============================] - 0s 122us/step - loss: 2.8356e-04\n",
      "Epoch 14/40\n",
      "2262/2262 [==============================] - 0s 128us/step - loss: 2.7744e-04\n",
      "Epoch 15/40\n",
      "2262/2262 [==============================] - 0s 134us/step - loss: 2.7751e-04\n",
      "Epoch 16/40\n",
      "2262/2262 [==============================] - 0s 116us/step - loss: 2.7664e-04\n",
      "Epoch 17/40\n",
      "2262/2262 [==============================] - 0s 106us/step - loss: 2.7706e-04\n",
      "Epoch 18/40\n",
      "2262/2262 [==============================] - 0s 107us/step - loss: 2.7778e-04\n",
      "Epoch 19/40\n",
      "2262/2262 [==============================] - 0s 105us/step - loss: 2.7714e-04\n",
      "Epoch 20/40\n",
      "2262/2262 [==============================] - 0s 120us/step - loss: 2.8048e-04\n",
      "Epoch 21/40\n",
      "2262/2262 [==============================] - 0s 106us/step - loss: 2.7418e-04\n",
      "Epoch 22/40\n",
      "2262/2262 [==============================] - 0s 107us/step - loss: 2.7399e-04\n",
      "Epoch 23/40\n",
      "2262/2262 [==============================] - 0s 106us/step - loss: 2.8102e-04\n",
      "Epoch 24/40\n",
      "2262/2262 [==============================] - 0s 105us/step - loss: 2.8003e-04\n",
      "Epoch 25/40\n",
      "2262/2262 [==============================] - 0s 105us/step - loss: 2.7535e-04\n",
      "Epoch 26/40\n",
      "2262/2262 [==============================] - 0s 105us/step - loss: 2.7953e-04\n",
      "Epoch 27/40\n",
      "2262/2262 [==============================] - 0s 107us/step - loss: 2.7227e-04\n",
      "Epoch 28/40\n",
      "2262/2262 [==============================] - 0s 106us/step - loss: 2.7721e-04\n",
      "Epoch 29/40\n",
      "2262/2262 [==============================] - 0s 103us/step - loss: 2.7922e-04\n",
      "Epoch 30/40\n",
      "2262/2262 [==============================] - 0s 106us/step - loss: 2.7475e-04\n",
      "Epoch 31/40\n",
      "2262/2262 [==============================] - 0s 110us/step - loss: 2.7269e-04\n",
      "Epoch 32/40\n",
      "2262/2262 [==============================] - 0s 117us/step - loss: 2.8319e-04\n",
      "Epoch 33/40\n",
      "2262/2262 [==============================] - 0s 105us/step - loss: 2.7757e-04\n",
      "Epoch 34/40\n",
      "2262/2262 [==============================] - 0s 107us/step - loss: 2.7455e-04\n",
      "Epoch 35/40\n",
      "2262/2262 [==============================] - 0s 106us/step - loss: 2.7395e-04\n",
      "Epoch 36/40\n",
      "2262/2262 [==============================] - 0s 106us/step - loss: 2.7160e-04\n",
      "Epoch 37/40\n",
      "2262/2262 [==============================] - 0s 107us/step - loss: 2.8391e-04\n",
      "Epoch 38/40\n",
      "2262/2262 [==============================] - 0s 107us/step - loss: 2.7570e-04\n",
      "Epoch 39/40\n",
      "2262/2262 [==============================] - 0s 108us/step - loss: 2.8110e-04\n",
      "Epoch 40/40\n",
      "2262/2262 [==============================] - 0s 116us/step - loss: 2.7287e-04\n"
     ]
    },
    {
     "data": {
      "text/plain": [
       "<keras.callbacks.callbacks.History at 0x18e1654cec8>"
      ]
     },
     "execution_count": 150,
     "metadata": {},
     "output_type": "execute_result"
    }
   ],
   "source": [
    "# Inicializando la RNN \n",
    "# utilizaremos un modelo continuo, modelo de regresión \n",
    " \n",
    "regressor = Sequential() \n",
    " \n",
    "# Añadimos una capa de entrada LSTM y una capa Dense\n",
    " \n",
    "regressor.add(LSTM(units = 5, activation = 'relu', input_shape = (None, 1))) \n",
    "\n",
    "regressor.add(Dense(units = 8, activation = 'sigmoid'))\n",
    "\n",
    "# Añadimos la capa de salida con una única neurona\n",
    " \n",
    "regressor.add(Dense(units = 1)) \n",
    " \n",
    "# Compilamos la RNN \n",
    "# usamos el error cuadrático medio \n",
    "# MSE para regresión \n",
    "\n",
    "regressor.compile(optimizer = 'rmsprop', loss = 'mean_squared_error') \n",
    " \n",
    "# Ajustamos la RNN al conjunto de entrenamiento \n",
    "regressor.fit(X_train, y_train, batch_size = 16, epochs =40)"
   ]
  },
  {
   "cell_type": "code",
   "execution_count": 151,
   "metadata": {},
   "outputs": [],
   "source": [
    "# Parte 3 – Hacer las predicciones y visualizar los resultados \n",
    "# Obtener el precio real de las acciones del 2019 a la fecha\n",
    "test_set = pd.read_csv('BBVA_test.csv', sep=',')\n",
    "real_stock_price = test_set.iloc[:,1:2].values #solo el Open\n",
    " \n",
    "# Obtener el precio de las acciones previsto para el 2019 a la fecha de forma iterativa \n",
    "inputs = real_stock_price \n",
    "inputs = sc.transform(inputs) \n",
    "inputs = np.reshape(inputs, (354, 1, 1))\n",
    "predicted_stock_price = regressor.predict(inputs)\n",
    "predicted_stock_price = sc.inverse_transform(predicted_stock_price)"
   ]
  },
  {
   "cell_type": "code",
   "execution_count": 152,
   "metadata": {},
   "outputs": [
    {
     "name": "stdout",
     "output_type": "stream",
     "text": [
      "[9784.47934043]\n"
     ]
    }
   ],
   "source": [
    "#Con un capital de 10000$ inicial, compro todo lo que puedo si mi predicción es mayor que el valor actual, o voy\n",
    "#corto si mi predicción es menor que el valor actual.\n",
    "fondos=10000\n",
    "for x in range(353):\n",
    "  if(predicted_stock_price[x]>real_stock_price[x]):\n",
    "    fondos+=(real_stock_price[x+1]-real_stock_price[x]) * fondos/real_stock_price[x]\n",
    "  if(real_stock_price[x]>predicted_stock_price[x]):\n",
    "    fondos-=(real_stock_price[x+1]-real_stock_price[x]) * fondos/real_stock_price[x]\n",
    "\n",
    "print(fondos)"
   ]
  },
  {
   "cell_type": "code",
   "execution_count": 153,
   "metadata": {
    "scrolled": true
   },
   "outputs": [
    {
     "data": {
      "image/png": "[encoded data removed]",
      "text/plain": [
       "<Figure size 432x288 with 1 Axes>"
      ]
     },
     "metadata": {
      "needs_background": "light"
     },
     "output_type": "display_data"
    }
   ],
   "source": [
    "# Visualizando la calidad de las predicciones en una gráfica.\n",
    "plt.plot(real_stock_price[1:354], color = 'red', label = 'Real BBVA stock Price') \n",
    "plt.plot(predicted_stock_price[0:354], color = 'blue', label = 'Predicted BBVA Stock Price') \n",
    "plt.title('BBVA Stock Price Prediction') \n",
    "plt.xlabel('Time') \n",
    "plt.ylabel('BBVA Time Price') \n",
    "plt.legend() \n",
    "plt.show()"
   ]
  }
 ],
 "metadata": {
  "celltoolbar": "Raw Cell Format",
  "kernelspec": {
   "display_name": "Python 3",
   "language": "python",
   "name": "python3"
  },
  "language_info": {
   "codemirror_mode": {
    "name": "ipython",
    "version": 3
   },
   "file_extension": ".py",
   "mimetype": "text/x-python",
   "name": "python",
   "nbconvert_exporter": "python",
   "pygments_lexer": "ipython3",
   "version": "3.7.4"
  }
 },
 "nbformat": 4,
 "nbformat_minor": 2
}
