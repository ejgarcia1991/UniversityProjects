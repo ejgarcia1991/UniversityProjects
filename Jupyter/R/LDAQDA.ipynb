{
 "cells": [
  {
   "cell_type": "markdown",
   "metadata": {},
   "source": [
    "## LDA & QDA\n",
    "### The Stock Market data\n",
    "We will use the \"The Stock Market dataset” from the book “An Introduction to Statistical Learning, with applications in R”, G. James, D. Witten,  T. Hastie and R. Tibshirani, Springer, 2013. There is a package in R called ISLR with this dataset included.\n",
    "\n",
    "Daily percentage returns for the S&P 500 stock index between 2001 and 2005 (source: raw values of the S&P 500 were obtained from Yahoo Finance and then converted to percentages and lagged).\n",
    "\n",
    "The stock market data includes 1250 examples of stock market information, each with 9 features: Year, Lag1, Lag2, Lag3, Lag4, Lag5, Volume, Today and Direction. Direction is the class feature with two possible outcomes: up or down."
   ]
  },
  {
   "cell_type": "code",
   "execution_count": 2,
   "metadata": {},
   "outputs": [
    {
     "data": {
      "text/plain": [
       "\n",
       "\tShapiro-Wilk normality test\n",
       "\n",
       "data:  Smarket$Lag1\n",
       "W = 0.97219, p-value = 8.889e-15\n"
      ]
     },
     "metadata": {},
     "output_type": "display_data"
    },
    {
     "data": {
      "text/plain": [
       "\n",
       "\tShapiro-Wilk normality test\n",
       "\n",
       "data:  Smarket$Lag1\n",
       "W = 0.97219, p-value = 8.889e-15\n"
      ]
     },
     "metadata": {},
     "output_type": "display_data"
    }
   ],
   "source": [
    "library(MASS)\n",
    "library(ISLR)\n",
    "\n",
    "# First check LDA assumtions!\n",
    "\n",
    "# The observations are a random sample: we will assume there are...\n",
    "# Each predictor variable is normally distributed\n",
    "shapiro.test(Smarket$Lag1)\n",
    "shapiro.test(Smarket$Lag1)"
   ]
  },
  {
   "cell_type": "code",
   "execution_count": null,
   "metadata": {
    "scrolled": true
   },
   "outputs": [],
   "source": [
    "qqnorm(y = Smarket$Lag1)\n",
    "qqline(y = Smarket$Lag1)"
   ]
  },
  {
   "cell_type": "code",
   "execution_count": null,
   "metadata": {},
   "outputs": [],
   "source": [
    "# Predictors have a common variance\n",
    "boxplot(Smarket[,2:3])\n",
    "\n",
    "var(Smarket$Lag1)\n",
    "var(Smarket$Lag2)"
   ]
  },
  {
   "cell_type": "code",
   "execution_count": null,
   "metadata": {},
   "outputs": [],
   "source": [
    "# Linear Discriminant Analysis\n",
    "lda.fit <- lda(Direction~Lag1+Lag2,data=Smarket, subset=Year<2005)\n",
    "lda.fit"
   ]
  },
  {
   "cell_type": "markdown",
   "metadata": {},
   "source": [
    "## $D=v_1X_1+v_2X_2+\\ldots+v_iX_i+a$"
   ]
  },
  {
   "cell_type": "code",
   "execution_count": null,
   "metadata": {},
   "outputs": [],
   "source": [
    "plot(lda.fit, type=\"both\", xlab = \"LD1\", ylab = \"Normalizedc frequency\") # xlab and ylab are overwritten"
   ]
  },
  {
   "cell_type": "code",
   "execution_count": null,
   "metadata": {},
   "outputs": [],
   "source": [
    "Smarket.2005 <- subset(Smarket,Year==2005)\n",
    "lda.pred <- predict(lda.fit,Smarket.2005)\n",
    "class(lda.pred)\n",
    "lda.pred"
   ]
  },
  {
   "cell_type": "code",
   "execution_count": null,
   "metadata": {},
   "outputs": [],
   "source": [
    "data.frame(lda.pred)"
   ]
  },
  {
   "cell_type": "code",
   "execution_count": null,
   "metadata": {
    "scrolled": true
   },
   "outputs": [],
   "source": [
    "table(lda.pred$class,Smarket.2005$Direction)\n",
    "mean(lda.pred$class==Smarket.2005$Direction)"
   ]
  },
  {
   "cell_type": "code",
   "execution_count": null,
   "metadata": {},
   "outputs": [],
   "source": [
    "library(klaR)\n",
    "partimat(Direction~Lag1+Lag2, data=Smarket, method=\"lda\")"
   ]
  },
  {
   "cell_type": "markdown",
   "metadata": {},
   "source": [
    "### QDA"
   ]
  },
  {
   "cell_type": "code",
   "execution_count": 3,
   "metadata": {},
   "outputs": [
    {
     "data": {
      "text/html": [
       "1.27913706688038"
      ],
      "text/latex": [
       "1.27913706688038"
      ],
      "text/markdown": [
       "1.27913706688038"
      ],
      "text/plain": [
       "[1] 1.279137"
      ]
     },
     "metadata": {},
     "output_type": "display_data"
    },
    {
     "data": {
      "text/html": [
       "1.24717074806801"
      ],
      "text/latex": [
       "1.24717074806801"
      ],
      "text/markdown": [
       "1.24717074806801"
      ],
      "text/plain": [
       "[1] 1.247171"
      ]
     },
     "metadata": {},
     "output_type": "display_data"
    },
    {
     "data": {
      "text/html": [
       "1.30204143704291"
      ],
      "text/latex": [
       "1.30204143704291"
      ],
      "text/markdown": [
       "1.30204143704291"
      ],
      "text/plain": [
       "[1] 1.302041"
      ]
     },
     "metadata": {},
     "output_type": "display_data"
    },
    {
     "data": {
      "text/html": [
       "1.33905195969342"
      ],
      "text/latex": [
       "1.33905195969342"
      ],
      "text/markdown": [
       "1.33905195969342"
      ],
      "text/plain": [
       "[1] 1.339052"
      ]
     },
     "metadata": {},
     "output_type": "display_data"
    }
   ],
   "source": [
    "# Check same variance but this time for each class\n",
    "var(Smarket[Smarket$Direction == \"Up\",]$Lag1)\n",
    "var(Smarket[Smarket$Direction == \"Up\",]$Lag2)\n",
    "var(Smarket[Smarket$Direction == \"Down\",]$Lag1)\n",
    "var(Smarket[Smarket$Direction == \"Down\",]$Lag2)"
   ]
  },
  {
   "cell_type": "code",
   "execution_count": null,
   "metadata": {},
   "outputs": [],
   "source": [
    "# QDA\n",
    "qda.fit <- qda(Direction~Lag1+Lag2, data=Smarket, subset=Year<2005)\n",
    "qda.fit"
   ]
  },
  {
   "cell_type": "code",
   "execution_count": null,
   "metadata": {},
   "outputs": [],
   "source": [
    "qda.pred <- predict(qda.fit,Smarket.2005)\n",
    "class(qda.pred)\n",
    "data.frame(qda.pred)"
   ]
  },
  {
   "cell_type": "code",
   "execution_count": null,
   "metadata": {},
   "outputs": [],
   "source": [
    "table(qda.pred$class,Smarket.2005$Direction)\n",
    "mean(qda.pred$class==Smarket.2005$Direction)"
   ]
  },
  {
   "cell_type": "code",
   "execution_count": null,
   "metadata": {},
   "outputs": [],
   "source": [
    "partimat(Direction~Lag1+Lag2, data=Smarket ,method=\"qda\")"
   ]
  },
  {
   "cell_type": "markdown",
   "metadata": {},
   "source": [
    "## Iris Data\n",
    "When there are more than two groups we can estimate more than one discriminant function:\n",
    "## $D_1=v_1X_1+v_2X_2+\\ldots+v_iX_i+a$\n",
    "## $D_2=w_1X_1+w_2X_2+\\ldots+w_iX_i+b$\n",
    "For example, when there are three groups, we could estimate (1) a function for discriminating between group 1 and groups 2 and 3 combined, and (2) another function for discriminating between group 2 and group 3.\n",
    "### LDA"
   ]
  },
  {
   "cell_type": "code",
   "execution_count": null,
   "metadata": {},
   "outputs": [],
   "source": [
    "data(iris)\n",
    "iris.lda <- lda(Species ~ Sepal.Length + Sepal.Width + Petal.Length + Petal.Width,  data = iris)\n",
    "iris.lda"
   ]
  },
  {
   "cell_type": "code",
   "execution_count": null,
   "metadata": {},
   "outputs": [],
   "source": [
    "partimat(Species ~ Sepal.Length + Sepal.Width + Petal.Length + Petal.Width, data=iris, method=\"lda\")"
   ]
  },
  {
   "cell_type": "markdown",
   "metadata": {},
   "source": [
    "### Using caret..."
   ]
  },
  {
   "cell_type": "code",
   "execution_count": null,
   "metadata": {},
   "outputs": [],
   "source": [
    "TrainData <- iris[,1:4]\n",
    "TrainClasses <- iris[,5]\n",
    "library(caret)\n",
    "ldaFit <- train(TrainData, TrainClasses,\n",
    "                method = \"lda\",\n",
    "                preProcess = c(\"center\", \"scale\"),\n",
    "                tuneLength = 10,\n",
    "                trControl = trainControl(method = \"cv\"))\n",
    "ldaFit\n",
    "confusionMatrix(ldaFit)"
   ]
  },
  {
   "cell_type": "code",
   "execution_count": null,
   "metadata": {
    "scrolled": true
   },
   "outputs": [],
   "source": [
    "qdaFit <- train(TrainData, TrainClasses,\n",
    "                method = \"qda\",\n",
    "                preProcess = c(\"center\", \"scale\"),\n",
    "                tuneLength = 10,\n",
    "                trControl = trainControl(method = \"cv\"))\n",
    "qdaFit\n",
    "confusionMatrix(qdaFit)"
   ]
  },
  {
   "cell_type": "markdown",
   "metadata": {},
   "source": [
    "## Exercise 1\n",
    "* Try lda with all Lag variables.\n",
    "* Make a quick comparison between logistic regression and lda.\n",
    "* Try with qda and compare all three methods. Plot the results."
   ]
  },
  {
   "cell_type": "code",
   "execution_count": null,
   "metadata": {},
   "outputs": [],
   "source": []
  },
  {
   "cell_type": "markdown",
   "metadata": {},
   "source": [
    "## Exercise 2\n",
    "Using only the information in file clasif_train_alumnos.csv:\n",
    "* Compare lda and qda using Wilcoxon.\n",
    "* Perform a multiple comparison using Friedman.\n",
    "* Using Holm see if there is a winning algorithm (even if Friedman says there is no chance…)."
   ]
  },
  {
   "cell_type": "code",
   "execution_count": null,
   "metadata": {},
   "outputs": [],
   "source": []
  },
  {
   "cell_type": "code",
   "execution_count": null,
   "metadata": {},
   "outputs": [],
   "source": []
  }
 ],
 "metadata": {
  "kernelspec": {
   "display_name": "R",
   "language": "R",
   "name": "ir"
  },
  "language_info": {
   "codemirror_mode": "r",
   "file_extension": ".r",
   "mimetype": "text/x-r-source",
   "name": "R",
   "pygments_lexer": "r",
   "version": "3.6.1"
  }
 },
 "nbformat": 4,
 "nbformat_minor": 2
}
